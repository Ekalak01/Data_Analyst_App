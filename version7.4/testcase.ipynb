{
 "cells": [
  {
   "cell_type": "markdown",
   "metadata": {},
   "source": [
    "## TEST Case MainWindow "
   ]
  },
  {
   "cell_type": "code",
   "execution_count": 5,
   "metadata": {},
   "outputs": [
    {
     "name": "stdout",
     "output_type": "stream",
     "text": [
      "True\n"
     ]
    }
   ],
   "source": [
    "import sys \n",
    "from main import Mainwindow as self \n",
    "from main import Mainwindow as fname\n",
    "from main import * \n",
    "\n",
    "parent_dir = \"C:/Users/s6301012620103/Documents/Softdev2/Assigment_3/testcsv/version7.2\"\n",
    "list_csv = ['csvtest1.csv', 'csvtest2.csv']\n",
    "fname = []\n",
    "if Mainwindow.openImportfolder(self,parent_dir):\n",
    "    #print (\"Can Open File prat\")\n",
    "    print (Mainwindow.openImportfolder(self,parent_dir))\n",
    "else: \n",
    "    (\"Error\")\n",
    "#Mainwindow.read_from_list_file(self.save_list_file)\n",
    "#Mainwindow.union_file(self,pd.DataFrame,list_csv)"
   ]
  },
  {
   "cell_type": "code",
   "execution_count": null,
   "metadata": {},
   "outputs": [],
   "source": [
    "path = \"C:/Users/s6301012620103/Documents/Softdev2/Assigment_3/testcsv/version7.2/csvtest2.csv\"\n",
    "fname = QFileInfo(path).fileName()\n",
    "print(Mainwindow.Importfile(self,path))"
   ]
  },
  {
   "cell_type": "code",
   "execution_count": 4,
   "metadata": {},
   "outputs": [
    {
     "name": "stdout",
     "output_type": "stream",
     "text": [
      "fname csvtest2.csv\n",
      "Lines []\n",
      "None\n"
     ]
    }
   ],
   "source": [
    "import sys \n",
    "from importclass import importclass\n",
    "parent_dir = \"C:/Users/s6301012620103/Documents/Softdev2/Assigment_3/testcsv/version7.2\"\n",
    "a = importclass(parent_dir)\n",
    "path = \"C:/Users/s6301012620103/Documents/Softdev2/Assigment_3/testcsv/version7.2/csvtest2.csv\"\n",
    "print(a.Importfile_class(path))"
   ]
  },
  {
   "cell_type": "code",
   "execution_count": null,
   "metadata": {},
   "outputs": [],
   "source": [
    "print(Mainwindow.gotofile(self,list_csv[0]))"
   ]
  },
  {
   "cell_type": "code",
   "execution_count": null,
   "metadata": {},
   "outputs": [],
   "source": [
    "print(Mainwindow.union_file(self,pd.DataFrame,list_csv))"
   ]
  },
  {
   "cell_type": "code",
   "execution_count": null,
   "metadata": {},
   "outputs": [],
   "source": [
    "list_csv = ['csvtest1.csv', 'csvtest2.csv']\n",
    "data1 = pd.read_csv(str(list_csv[0]))\n",
    "data2 = pd.read_csv(str(list_csv[1]))\n",
    "print(Mainwindow.merge_file(self,data1,data2))\n",
    "#print(\"True\")\n",
    "#if Mainwindow.merge_file(self,data1,data2): print(\"True\")"
   ]
  }
 ],
 "metadata": {
  "interpreter": {
   "hash": "b3ba2566441a7c06988d0923437866b63cedc61552a5af99d1f4fb67d367b25f"
  },
  "kernelspec": {
   "display_name": "Python 3.8.8 ('base')",
   "language": "python",
   "name": "python3"
  },
  "language_info": {
   "codemirror_mode": {
    "name": "ipython",
    "version": 3
   },
   "file_extension": ".py",
   "mimetype": "text/x-python",
   "name": "python",
   "nbconvert_exporter": "python",
   "pygments_lexer": "ipython3",
   "version": "3.8.8"
  },
  "orig_nbformat": 4
 },
 "nbformat": 4,
 "nbformat_minor": 2
}
